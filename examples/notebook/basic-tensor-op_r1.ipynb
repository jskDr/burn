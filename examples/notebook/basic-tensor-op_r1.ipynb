{
 "cells": [
  {
   "cell_type": "markdown",
   "metadata": {},
   "source": [
    "# This notebook demonstrates basic tensor operations in Burn."
   ]
  },
  {
   "cell_type": "code",
   "execution_count": 14,
   "metadata": {
    "vscode": {
     "languageId": "rust"
    }
   },
   "outputs": [],
   "source": [
    "// Dependency declarations for the notebook. WARNING: It may take a while to compile the first time.\n",
    "\n",
    "// The syntax is similar to the one used in the Cargo.toml file. Just prefix with :dep\n",
    "// See: https://github.com/evcxr/evcxr/blob/main/COMMON.md\n",
    "\n",
    ":dep burn = {path = \"../../burn\"}\n",
    "// :dep burn = \"0.11.1\"\n",
    ":dep burn-ndarray = {path = \"../../burn-ndarray\"}\n",
    "// :dep burn-ndarray = \"0.11.1\""
   ]
  },
  {
   "cell_type": "code",
   "execution_count": 15,
   "metadata": {
    "vscode": {
     "languageId": "rust"
    }
   },
   "outputs": [],
   "source": [
    "// Import packages\n",
    "use burn::tensor::Tensor;\n",
    "use burn::tensor::backend::Backend;\n",
    "use burn_ndarray::NdArray;\n",
    "\n",
    "// Type alias for the backend\n",
    "type B = NdArray<f32>;"
   ]
  },
  {
   "cell_type": "markdown",
   "metadata": {},
   "source": [
    "## Tensor creation"
   ]
  },
  {
   "cell_type": "code",
   "execution_count": 16,
   "metadata": {
    "vscode": {
     "languageId": "rust"
    }
   },
   "outputs": [
    {
     "name": "stdout",
     "output_type": "stream",
     "text": [
      "Empty tensor: Tensor {\n",
      "  data:\n",
      "[[[0.0, 0.0, 0.0],\n",
      "  [0.0, 0.0, 0.0]]],\n",
      "  shape:  [1, 2, 3],\n",
      "  device:  Cpu,\n",
      "  backend:  \"ndarray\",\n",
      "  kind:  \"Float\",\n",
      "  dtype:  \"f32\",\n",
      "}\n",
      "Tensor from slice: Tensor {\n",
      "  data:\n",
      "[[1.0, 2.0],\n",
      " [3.0, 4.0]],\n",
      "  shape:  [2, 2],\n",
      "  device:  Cpu,\n",
      "  backend:  \"ndarray\",\n",
      "  kind:  \"Float\",\n",
      "  dtype:  \"f32\",\n",
      "}\n",
      "Random tensor: Tensor {\n",
      "  data:\n",
      "[0.9788971, 0.8056489, 0.7158008, 0.48867607, 0.9172387],\n",
      "  shape:  [5],\n",
      "  device:  Cpu,\n",
      "  backend:  \"ndarray\",\n",
      "  kind:  \"Float\",\n",
      "  dtype:  \"f32\",\n",
      "}\n"
     ]
    }
   ],
   "source": [
    "// A device the tensors will be stored on\n",
    "let device = <B as Backend>::Device::default();\n",
    "// Create an empty tensor for a given shape\n",
    "let tensor: Tensor<B, 3> = Tensor::empty([1, 2, 3], &device);\n",
    "println!(\"Empty tensor: {}\", tensor);\n",
    "\n",
    "// Create a tensor from a slice of floats\n",
    "let tensor: Tensor<B, 2> = Tensor::from_floats([1.0, 2.0, 3.0, 4.0], &device).reshape([2, 2]);\n",
    "println!(\"Tensor from slice: {}\", tensor);\n",
    "\n",
    "// Create a random tensor\n",
    "use burn::tensor::Distribution;\n",
    "let tensor: Tensor<B, 1> = Tensor::random([5], Distribution::Default, &device);\n",
    "println!(\"Random tensor: {}\", tensor);\n",
    "\n",
    "// Create a tensor using fill values, zeros, or ones\n",
    "let tensor: Tensor<B,2> = Tensor::full([2, 2], 7.0, &device);\n",
    "let tensor: Tensor<B,2> = Tensor::zeros([2, 2], &device);\n",
    "let tensor: Tensor<B,2> = Tensor::ones([2, 2], &device);\n"
   ]
  },
  {
   "cell_type": "markdown",
   "metadata": {},
   "source": [
    "## Tensor Operations\n"
   ]
  },
  {
   "cell_type": "code",
   "execution_count": 5,
   "metadata": {
    "vscode": {
     "languageId": "rust"
    }
   },
   "outputs": [
    {
     "name": "stdout",
     "output_type": "stream",
     "text": [
      "x3 = Tensor {\n",
      "  data:\n",
      "[[8.0, 8.0],\n",
      " [8.0, 8.0]],\n",
      "  shape:  [2, 2],\n",
      "  device:  Cpu,\n",
      "  backend:  \"ndarray\",\n",
      "  kind:  \"Float\",\n",
      "  dtype:  \"f32\",\n",
      "}\n"
     ]
    }
   ],
   "source": [
    "let x1: Tensor<B,2> = Tensor::ones([2, 2], &device);\n",
    "let x2: Tensor<B,2> = Tensor::full([2, 2], 7.0, &device);\n",
    "\n",
    "let x3 = x1 + x2;\n",
    "\n",
    "println!(\"x3 = {}\", x3);\n",
    "// println!(\"x1 = {}\", x1); <-- not allowed, x1 was moved"
   ]
  },
  {
   "cell_type": "code",
   "execution_count": 22,
   "metadata": {
    "vscode": {
     "languageId": "rust"
    }
   },
   "outputs": [
    {
     "name": "stdout",
     "output_type": "stream",
     "text": [
      "x3 = Tensor {\n",
      "  data:\n",
      "[[8.0, 8.0],\n",
      " [8.0, 8.0]],\n",
      "  shape:  [2, 2],\n",
      "  device:  Cpu,\n",
      "  backend:  \"ndarray\",\n",
      "  kind:  \"Float\",\n",
      "  dtype:  \"f32\",\n",
      "}\n",
      "x1 = Tensor {\n",
      "  data:\n",
      "[[1.0, 1.0],\n",
      " [1.0, 1.0]],\n",
      "  shape:  [2, 2],\n",
      "  device:  Cpu,\n",
      "  backend:  \"ndarray\",\n",
      "  kind:  \"Float\",\n",
      "  dtype:  \"f32\",\n",
      "}\n",
      "x2 = Tensor {\n",
      "  data:\n",
      "[[7.0, 7.0],\n",
      " [7.0, 7.0]],\n",
      "  shape:  [2, 2],\n",
      "  device:  Cpu,\n",
      "  backend:  \"ndarray\",\n",
      "  kind:  \"Float\",\n",
      "  dtype:  \"f32\",\n",
      "}\n"
     ]
    }
   ],
   "source": [
    "let x1: Tensor<B,2> = Tensor::ones([2, 2], &device);\n",
    "let x2: Tensor<B,2> = Tensor::full([2, 2], 7.0, &device);\n",
    "\n",
    "let x3: Tensor<B,2> = x1.clone() + x2.clone();\n",
    "\n",
    "println!(\"x3 = {}\", x3);\n",
    "println!(\"x1 = {}\", x1);\n",
    "println!(\"x2 = {}\", x2);"
   ]
  },
  {
   "cell_type": "code",
   "execution_count": null,
   "metadata": {
    "vscode": {
     "languageId": "rust"
    }
   },
   "outputs": [],
   "source": []
  }
 ],
 "metadata": {
  "kernelspec": {
   "display_name": "Rust",
   "language": "rust",
   "name": "rust"
  },
  "language_info": {
   "codemirror_mode": "rust",
   "file_extension": ".rs",
   "mimetype": "text/rust",
   "name": "Rust",
   "pygment_lexer": "rust",
   "version": ""
  }
 },
 "nbformat": 4,
 "nbformat_minor": 4
}
